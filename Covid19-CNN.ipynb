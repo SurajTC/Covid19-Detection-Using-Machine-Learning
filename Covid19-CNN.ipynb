{
  "nbformat": 4,
  "nbformat_minor": 0,
  "metadata": {
    "language_info": {
      "codemirror_mode": {
        "name": "ipython",
        "version": 3
      },
      "file_extension": ".py",
      "mimetype": "text/x-python",
      "name": "python",
      "nbconvert_exporter": "python",
      "pygments_lexer": "ipython3",
      "version": "3.8.10"
    },
    "orig_nbformat": 4,
    "kernelspec": {
      "name": "python3",
      "display_name": "Python 3.8.10 64-bit ('CNN': conda)"
    },
    "interpreter": {
      "hash": "c95c07a5e1bcb6d48ffc80df2e9a3caebd581c985f60be908cad51abc02bcdfa"
    },
    "colab": {
      "name": "CNNcode.ipynb",
      "provenance": [],
      "collapsed_sections": []
    },
    "accelerator": "GPU"
  },
  "cells": [
    {
      "cell_type": "markdown",
      "metadata": {
        "id": "M56BNu8b9ZYS"
      },
      "source": [
        "# 1.Importing Required Libraries\n"
      ]
    },
    {
      "cell_type": "code",
      "metadata": {
        "id": "Mr5UHVm-yqAK"
      },
      "source": [
        "import numpy as np\n",
        "import matplotlib.pyplot as plt\n",
        "\n",
        "import keras\n",
        "from keras.layers import Dense, Conv2D, MaxPool2D, Dropout, Flatten\n",
        "from keras.models import Sequential\n",
        "from keras.preprocessing import image"
      ],
      "execution_count": null,
      "outputs": []
    },
    {
      "cell_type": "markdown",
      "metadata": {
        "id": "UTuX28bf9X6i"
      },
      "source": [
        "# 2.Downloading Dataset to Cloud Platform"
      ]
    },
    {
      "cell_type": "code",
      "metadata": {
        "colab": {
          "base_uri": "https://localhost:8080/"
        },
        "id": "umf_pUzp0DzP",
        "outputId": "aa2270c0-8113-4c63-afeb-1a9a866f52bd"
      },
      "source": [
        "!unzip \"/content/CovidDataset.zip\""
      ],
      "execution_count": null,
      "outputs": [
        {
          "output_type": "stream",
          "text": [
            "Archive:  /content/CovidDataset.zip\n",
            "   creating: CovidDataset/\n",
            "   creating: CovidDataset/InputTestData/\n",
            "   creating: CovidDataset/InputTestData/Covid/\n",
            " extracting: CovidDataset/InputTestData/Covid/COVID-112.png  \n",
            " extracting: CovidDataset/InputTestData/Covid/COVID-113.png  \n",
            " extracting: CovidDataset/InputTestData/Covid/COVID-114.png  \n",
            " extracting: CovidDataset/InputTestData/Covid/COVID-2537.png  \n",
            " extracting: CovidDataset/InputTestData/Covid/COVID-2538.png  \n",
            "  inflating: CovidDataset/InputTestData/Covid/COVID-2539.png  \n",
            " extracting: CovidDataset/InputTestData/Covid/COVID-2540.png  \n",
            " extracting: CovidDataset/InputTestData/Covid/COVID-2541.png  \n",
            " extracting: CovidDataset/InputTestData/Covid/COVID-2542.png  \n",
            " extracting: CovidDataset/InputTestData/Covid/COVID-2543.png  \n",
            "   creating: CovidDataset/InputTestData/Normal/\n",
            " extracting: CovidDataset/InputTestData/Normal/Normal-26.png  \n",
            " extracting: CovidDataset/InputTestData/Normal/Normal-27.png  \n",
            " extracting: CovidDataset/InputTestData/Normal/Normal-28.png  \n",
            " extracting: CovidDataset/InputTestData/Normal/Normal-29.png  \n",
            " extracting: CovidDataset/InputTestData/Normal/Normal-30.png  \n",
            " extracting: CovidDataset/InputTestData/Normal/Normal-866.png  \n",
            " extracting: CovidDataset/InputTestData/Normal/Normal-867.png  \n",
            " extracting: CovidDataset/InputTestData/Normal/Normal-868.png  \n",
            " extracting: CovidDataset/InputTestData/Normal/Normal-869.png  \n",
            " extracting: CovidDataset/InputTestData/Normal/Normal-870.png  \n",
            "   creating: CovidDataset/Train/\n",
            "   creating: CovidDataset/Train/Covid/\n",
            " extracting: CovidDataset/Train/Covid/COVID-246.png  \n",
            " extracting: CovidDataset/Train/Covid/COVID-247.png  \n",
            " extracting: CovidDataset/Train/Covid/COVID-248.png  \n",
            " extracting: CovidDataset/Train/Covid/COVID-249.png  \n",
            " extracting: CovidDataset/Train/Covid/COVID-250.png  \n",
            " extracting: CovidDataset/Train/Covid/COVID-251.png  \n",
            " extracting: CovidDataset/Train/Covid/COVID-252.png  \n",
            " extracting: CovidDataset/Train/Covid/COVID-253.png  \n",
            " extracting: CovidDataset/Train/Covid/COVID-254.png  \n",
            " extracting: CovidDataset/Train/Covid/COVID-255.png  \n",
            " extracting: CovidDataset/Train/Covid/COVID-256.png  \n",
            " extracting: CovidDataset/Train/Covid/COVID-257.png  \n",
            " extracting: CovidDataset/Train/Covid/COVID-258.png  \n",
            " extracting: CovidDataset/Train/Covid/COVID-259.png  \n",
            " extracting: CovidDataset/Train/Covid/COVID-260.png  \n",
            " extracting: CovidDataset/Train/Covid/COVID-261.png  \n",
            " extracting: CovidDataset/Train/Covid/COVID-262.png  \n",
            " extracting: CovidDataset/Train/Covid/COVID-263.png  \n",
            " extracting: CovidDataset/Train/Covid/COVID-264.png  \n",
            " extracting: CovidDataset/Train/Covid/COVID-265.png  \n",
            " extracting: CovidDataset/Train/Covid/COVID-266.png  \n",
            " extracting: CovidDataset/Train/Covid/COVID-267.png  \n",
            " extracting: CovidDataset/Train/Covid/COVID-268.png  \n",
            " extracting: CovidDataset/Train/Covid/COVID-269.png  \n",
            " extracting: CovidDataset/Train/Covid/COVID-270.png  \n",
            " extracting: CovidDataset/Train/Covid/COVID-271.png  \n",
            " extracting: CovidDataset/Train/Covid/COVID-272.png  \n",
            " extracting: CovidDataset/Train/Covid/COVID-273.png  \n",
            " extracting: CovidDataset/Train/Covid/COVID-274.png  \n",
            " extracting: CovidDataset/Train/Covid/COVID-275.png  \n",
            " extracting: CovidDataset/Train/Covid/COVID-276.png  \n",
            " extracting: CovidDataset/Train/Covid/COVID-277.png  \n",
            " extracting: CovidDataset/Train/Covid/COVID-278.png  \n",
            " extracting: CovidDataset/Train/Covid/COVID-279.png  \n",
            " extracting: CovidDataset/Train/Covid/COVID-280.png  \n",
            " extracting: CovidDataset/Train/Covid/COVID-281.png  \n",
            " extracting: CovidDataset/Train/Covid/COVID-282.png  \n",
            " extracting: CovidDataset/Train/Covid/COVID-283.png  \n",
            " extracting: CovidDataset/Train/Covid/COVID-284.png  \n",
            " extracting: CovidDataset/Train/Covid/COVID-285.png  \n",
            " extracting: CovidDataset/Train/Covid/COVID-286.png  \n",
            " extracting: CovidDataset/Train/Covid/COVID-287.png  \n",
            " extracting: CovidDataset/Train/Covid/COVID-288.png  \n",
            " extracting: CovidDataset/Train/Covid/COVID-289.png  \n",
            " extracting: CovidDataset/Train/Covid/COVID-290.png  \n",
            " extracting: CovidDataset/Train/Covid/COVID-291.png  \n",
            " extracting: CovidDataset/Train/Covid/COVID-292.png  \n",
            " extracting: CovidDataset/Train/Covid/COVID-293.png  \n",
            " extracting: CovidDataset/Train/Covid/COVID-294.png  \n",
            " extracting: CovidDataset/Train/Covid/COVID-295.png  \n",
            " extracting: CovidDataset/Train/Covid/COVID-296.png  \n",
            " extracting: CovidDataset/Train/Covid/COVID-297.png  \n",
            " extracting: CovidDataset/Train/Covid/COVID-298.png  \n",
            " extracting: CovidDataset/Train/Covid/COVID-299.png  \n",
            " extracting: CovidDataset/Train/Covid/COVID-300.png  \n",
            " extracting: CovidDataset/Train/Covid/COVID-301.png  \n",
            " extracting: CovidDataset/Train/Covid/COVID-302.png  \n",
            " extracting: CovidDataset/Train/Covid/COVID-303.png  \n",
            " extracting: CovidDataset/Train/Covid/COVID-304.png  \n",
            " extracting: CovidDataset/Train/Covid/COVID-305.png  \n",
            " extracting: CovidDataset/Train/Covid/COVID-306.png  \n",
            " extracting: CovidDataset/Train/Covid/COVID-307.png  \n",
            " extracting: CovidDataset/Train/Covid/COVID-308.png  \n",
            " extracting: CovidDataset/Train/Covid/COVID-309.png  \n",
            " extracting: CovidDataset/Train/Covid/COVID-310.png  \n",
            " extracting: CovidDataset/Train/Covid/COVID-311.png  \n",
            " extracting: CovidDataset/Train/Covid/COVID-312.png  \n",
            " extracting: CovidDataset/Train/Covid/COVID-313.png  \n",
            " extracting: CovidDataset/Train/Covid/COVID-314.png  \n",
            " extracting: CovidDataset/Train/Covid/COVID-315.png  \n",
            " extracting: CovidDataset/Train/Covid/COVID-316.png  \n",
            " extracting: CovidDataset/Train/Covid/COVID-317.png  \n",
            " extracting: CovidDataset/Train/Covid/COVID-318.png  \n",
            " extracting: CovidDataset/Train/Covid/COVID-319.png  \n",
            " extracting: CovidDataset/Train/Covid/COVID-320.png  \n",
            " extracting: CovidDataset/Train/Covid/COVID-321.png  \n",
            " extracting: CovidDataset/Train/Covid/COVID-322.png  \n",
            " extracting: CovidDataset/Train/Covid/COVID-323.png  \n",
            " extracting: CovidDataset/Train/Covid/COVID-324.png  \n",
            " extracting: CovidDataset/Train/Covid/COVID-325.png  \n",
            " extracting: CovidDataset/Train/Covid/COVID-326.png  \n",
            " extracting: CovidDataset/Train/Covid/COVID-327.png  \n",
            " extracting: CovidDataset/Train/Covid/COVID-328.png  \n",
            " extracting: CovidDataset/Train/Covid/COVID-329.png  \n",
            " extracting: CovidDataset/Train/Covid/COVID-330.png  \n",
            " extracting: CovidDataset/Train/Covid/COVID-331.png  \n",
            " extracting: CovidDataset/Train/Covid/COVID-332.png  \n",
            " extracting: CovidDataset/Train/Covid/COVID-333.png  \n",
            " extracting: CovidDataset/Train/Covid/COVID-334.png  \n",
            " extracting: CovidDataset/Train/Covid/COVID-335.png  \n",
            " extracting: CovidDataset/Train/Covid/COVID-336.png  \n",
            " extracting: CovidDataset/Train/Covid/COVID-337.png  \n",
            " extracting: CovidDataset/Train/Covid/COVID-338.png  \n",
            " extracting: CovidDataset/Train/Covid/COVID-339.png  \n",
            " extracting: CovidDataset/Train/Covid/COVID-340.png  \n",
            " extracting: CovidDataset/Train/Covid/COVID-341.png  \n",
            " extracting: CovidDataset/Train/Covid/COVID-342.png  \n",
            " extracting: CovidDataset/Train/Covid/COVID-343.png  \n",
            " extracting: CovidDataset/Train/Covid/COVID-344.png  \n",
            " extracting: CovidDataset/Train/Covid/COVID-345.png  \n",
            "   creating: CovidDataset/Train/Normal/\n",
            " extracting: CovidDataset/Train/Normal/Normal-6221.png  \n",
            " extracting: CovidDataset/Train/Normal/Normal-6222.png  \n",
            " extracting: CovidDataset/Train/Normal/Normal-6223.png  \n",
            " extracting: CovidDataset/Train/Normal/Normal-6224.png  \n",
            " extracting: CovidDataset/Train/Normal/Normal-6225.png  \n",
            " extracting: CovidDataset/Train/Normal/Normal-6226.png  \n",
            " extracting: CovidDataset/Train/Normal/Normal-6227.png  \n",
            " extracting: CovidDataset/Train/Normal/Normal-6228.png  \n",
            " extracting: CovidDataset/Train/Normal/Normal-6229.png  \n",
            " extracting: CovidDataset/Train/Normal/Normal-6230.png  \n",
            " extracting: CovidDataset/Train/Normal/Normal-6231.png  \n",
            " extracting: CovidDataset/Train/Normal/Normal-6232.png  \n",
            " extracting: CovidDataset/Train/Normal/Normal-6233.png  \n",
            " extracting: CovidDataset/Train/Normal/Normal-6234.png  \n",
            " extracting: CovidDataset/Train/Normal/Normal-6235.png  \n",
            " extracting: CovidDataset/Train/Normal/Normal-6236.png  \n",
            " extracting: CovidDataset/Train/Normal/Normal-6237.png  \n",
            " extracting: CovidDataset/Train/Normal/Normal-6238.png  \n",
            " extracting: CovidDataset/Train/Normal/Normal-6239.png  \n",
            " extracting: CovidDataset/Train/Normal/Normal-6240.png  \n",
            " extracting: CovidDataset/Train/Normal/Normal-6241.png  \n",
            " extracting: CovidDataset/Train/Normal/Normal-6242.png  \n",
            " extracting: CovidDataset/Train/Normal/Normal-6243.png  \n",
            " extracting: CovidDataset/Train/Normal/Normal-6244.png  \n",
            " extracting: CovidDataset/Train/Normal/Normal-6245.png  \n",
            " extracting: CovidDataset/Train/Normal/Normal-6246.png  \n",
            " extracting: CovidDataset/Train/Normal/Normal-6247.png  \n",
            " extracting: CovidDataset/Train/Normal/Normal-6248.png  \n",
            " extracting: CovidDataset/Train/Normal/Normal-6249.png  \n",
            " extracting: CovidDataset/Train/Normal/Normal-6250.png  \n",
            " extracting: CovidDataset/Train/Normal/Normal-6251.png  \n",
            " extracting: CovidDataset/Train/Normal/Normal-6252.png  \n",
            " extracting: CovidDataset/Train/Normal/Normal-6253.png  \n",
            " extracting: CovidDataset/Train/Normal/Normal-6254.png  \n",
            " extracting: CovidDataset/Train/Normal/Normal-6255.png  \n",
            " extracting: CovidDataset/Train/Normal/Normal-6256.png  \n",
            " extracting: CovidDataset/Train/Normal/Normal-6257.png  \n",
            " extracting: CovidDataset/Train/Normal/Normal-6258.png  \n",
            " extracting: CovidDataset/Train/Normal/Normal-6259.png  \n",
            " extracting: CovidDataset/Train/Normal/Normal-6260.png  \n",
            " extracting: CovidDataset/Train/Normal/Normal-6261.png  \n",
            " extracting: CovidDataset/Train/Normal/Normal-6262.png  \n",
            " extracting: CovidDataset/Train/Normal/Normal-6263.png  \n",
            " extracting: CovidDataset/Train/Normal/Normal-6264.png  \n",
            " extracting: CovidDataset/Train/Normal/Normal-6265.png  \n",
            " extracting: CovidDataset/Train/Normal/Normal-6266.png  \n",
            " extracting: CovidDataset/Train/Normal/Normal-6267.png  \n",
            " extracting: CovidDataset/Train/Normal/Normal-6268.png  \n",
            " extracting: CovidDataset/Train/Normal/Normal-6269.png  \n",
            " extracting: CovidDataset/Train/Normal/Normal-6270.png  \n",
            " extracting: CovidDataset/Train/Normal/Normal-6271.png  \n",
            " extracting: CovidDataset/Train/Normal/Normal-6272.png  \n",
            " extracting: CovidDataset/Train/Normal/Normal-6273.png  \n",
            " extracting: CovidDataset/Train/Normal/Normal-6274.png  \n",
            " extracting: CovidDataset/Train/Normal/Normal-6275.png  \n",
            " extracting: CovidDataset/Train/Normal/Normal-6276.png  \n",
            " extracting: CovidDataset/Train/Normal/Normal-6277.png  \n",
            " extracting: CovidDataset/Train/Normal/Normal-6278.png  \n",
            " extracting: CovidDataset/Train/Normal/Normal-6279.png  \n",
            " extracting: CovidDataset/Train/Normal/Normal-6280.png  \n",
            " extracting: CovidDataset/Train/Normal/Normal-6281.png  \n",
            " extracting: CovidDataset/Train/Normal/Normal-6282.png  \n",
            " extracting: CovidDataset/Train/Normal/Normal-6283.png  \n",
            " extracting: CovidDataset/Train/Normal/Normal-6284.png  \n",
            " extracting: CovidDataset/Train/Normal/Normal-6285.png  \n",
            " extracting: CovidDataset/Train/Normal/Normal-6286.png  \n",
            " extracting: CovidDataset/Train/Normal/Normal-6287.png  \n",
            " extracting: CovidDataset/Train/Normal/Normal-6288.png  \n",
            " extracting: CovidDataset/Train/Normal/Normal-6289.png  \n",
            " extracting: CovidDataset/Train/Normal/Normal-6290.png  \n",
            " extracting: CovidDataset/Train/Normal/Normal-6291.png  \n",
            " extracting: CovidDataset/Train/Normal/Normal-6292.png  \n",
            " extracting: CovidDataset/Train/Normal/Normal-6293.png  \n",
            " extracting: CovidDataset/Train/Normal/Normal-6294.png  \n",
            " extracting: CovidDataset/Train/Normal/Normal-6295.png  \n",
            " extracting: CovidDataset/Train/Normal/Normal-6296.png  \n",
            " extracting: CovidDataset/Train/Normal/Normal-6297.png  \n",
            " extracting: CovidDataset/Train/Normal/Normal-6298.png  \n",
            " extracting: CovidDataset/Train/Normal/Normal-6299.png  \n",
            " extracting: CovidDataset/Train/Normal/Normal-6300.png  \n",
            " extracting: CovidDataset/Train/Normal/Normal-6301.png  \n",
            " extracting: CovidDataset/Train/Normal/Normal-6302.png  \n",
            " extracting: CovidDataset/Train/Normal/Normal-6303.png  \n",
            " extracting: CovidDataset/Train/Normal/Normal-6304.png  \n",
            " extracting: CovidDataset/Train/Normal/Normal-6305.png  \n",
            " extracting: CovidDataset/Train/Normal/Normal-6306.png  \n",
            " extracting: CovidDataset/Train/Normal/Normal-6307.png  \n",
            " extracting: CovidDataset/Train/Normal/Normal-6308.png  \n",
            " extracting: CovidDataset/Train/Normal/Normal-6309.png  \n",
            " extracting: CovidDataset/Train/Normal/Normal-6310.png  \n",
            " extracting: CovidDataset/Train/Normal/Normal-6311.png  \n",
            " extracting: CovidDataset/Train/Normal/Normal-6312.png  \n",
            " extracting: CovidDataset/Train/Normal/Normal-6313.png  \n",
            " extracting: CovidDataset/Train/Normal/Normal-6314.png  \n",
            " extracting: CovidDataset/Train/Normal/Normal-6315.png  \n",
            " extracting: CovidDataset/Train/Normal/Normal-6316.png  \n",
            " extracting: CovidDataset/Train/Normal/Normal-6317.png  \n",
            " extracting: CovidDataset/Train/Normal/Normal-6318.png  \n",
            " extracting: CovidDataset/Train/Normal/Normal-6319.png  \n",
            " extracting: CovidDataset/Train/Normal/Normal-6320.png  \n",
            "   creating: CovidDataset/Val/\n",
            "   creating: CovidDataset/Val/Covid/\n",
            " extracting: CovidDataset/Val/Covid/COVID-3566.png  \n",
            " extracting: CovidDataset/Val/Covid/COVID-3567.png  \n",
            " extracting: CovidDataset/Val/Covid/COVID-3568.png  \n",
            " extracting: CovidDataset/Val/Covid/COVID-3569.png  \n",
            " extracting: CovidDataset/Val/Covid/COVID-3570.png  \n",
            " extracting: CovidDataset/Val/Covid/COVID-3571.png  \n",
            "  inflating: CovidDataset/Val/Covid/COVID-3572.png  \n",
            " extracting: CovidDataset/Val/Covid/COVID-3573.png  \n",
            " extracting: CovidDataset/Val/Covid/COVID-3574.png  \n",
            " extracting: CovidDataset/Val/Covid/COVID-3575.png  \n",
            " extracting: CovidDataset/Val/Covid/COVID-3576.png  \n",
            " extracting: CovidDataset/Val/Covid/COVID-3577.png  \n",
            " extracting: CovidDataset/Val/Covid/COVID-3578.png  \n",
            " extracting: CovidDataset/Val/Covid/COVID-3579.png  \n",
            " extracting: CovidDataset/Val/Covid/COVID-3580.png  \n",
            " extracting: CovidDataset/Val/Covid/COVID-3581.png  \n",
            " extracting: CovidDataset/Val/Covid/COVID-3582.png  \n",
            " extracting: CovidDataset/Val/Covid/COVID-3583.png  \n",
            " extracting: CovidDataset/Val/Covid/COVID-3584.png  \n",
            " extracting: CovidDataset/Val/Covid/COVID-3585.png  \n",
            "   creating: CovidDataset/Val/Normal/\n",
            " extracting: CovidDataset/Val/Normal/Normal-10006.png  \n",
            " extracting: CovidDataset/Val/Normal/Normal-10007.png  \n",
            " extracting: CovidDataset/Val/Normal/Normal-10008.png  \n",
            " extracting: CovidDataset/Val/Normal/Normal-10009.png  \n",
            " extracting: CovidDataset/Val/Normal/Normal-10010.png  \n",
            " extracting: CovidDataset/Val/Normal/Normal-10011.png  \n",
            " extracting: CovidDataset/Val/Normal/Normal-10012.png  \n",
            " extracting: CovidDataset/Val/Normal/Normal-10013.png  \n",
            " extracting: CovidDataset/Val/Normal/Normal-10014.png  \n",
            " extracting: CovidDataset/Val/Normal/Normal-10015.png  \n",
            " extracting: CovidDataset/Val/Normal/Normal-10016.png  \n",
            " extracting: CovidDataset/Val/Normal/Normal-10017.png  \n",
            " extracting: CovidDataset/Val/Normal/Normal-10018.png  \n",
            " extracting: CovidDataset/Val/Normal/Normal-10019.png  \n",
            " extracting: CovidDataset/Val/Normal/Normal-10020.png  \n",
            " extracting: CovidDataset/Val/Normal/Normal-10021.png  \n",
            " extracting: CovidDataset/Val/Normal/Normal-10022.png  \n",
            " extracting: CovidDataset/Val/Normal/Normal-10023.png  \n",
            " extracting: CovidDataset/Val/Normal/Normal-10024.png  \n",
            " extracting: CovidDataset/Val/Normal/Normal-10025.png  \n"
          ],
          "name": "stdout"
        }
      ]
    },
    {
      "cell_type": "markdown",
      "metadata": {
        "id": "AyEKvPoM-HyF"
      },
      "source": [
        "# 3.Splitting the Dataset"
      ]
    },
    {
      "cell_type": "markdown",
      "metadata": {
        "id": "eb_sLZjU-OkQ"
      },
      "source": [
        "### Generation of training data using ImageDataGenerator with Image Augmentation"
      ]
    },
    {
      "cell_type": "code",
      "metadata": {
        "colab": {
          "base_uri": "https://localhost:8080/"
        },
        "id": "h4Wyuj6yyqAM",
        "outputId": "27c70839-b77a-411e-b371-10ca6abccc13"
      },
      "source": [
        "train_datagen = image.ImageDataGenerator(  rescale= 1/255,  horizontal_flip= True, zoom_range= 0.2, shear_range= 0.2)\n",
        "\n",
        "train = train_datagen.flow_from_directory(directory= '/content/CovidDataset/Train' , target_size=(224,224), batch_size= 16, class_mode= 'binary')"
      ],
      "execution_count": null,
      "outputs": [
        {
          "output_type": "stream",
          "text": [
            "Found 200 images belonging to 2 classes.\n"
          ],
          "name": "stdout"
        }
      ]
    },
    {
      "cell_type": "code",
      "metadata": {
        "colab": {
          "base_uri": "https://localhost:8080/"
        },
        "id": "PPevBOc6yqAN",
        "outputId": "da75eeae-6cfc-4138-fa1a-bd2e51bf2e2a"
      },
      "source": [
        "train.class_indices"
      ],
      "execution_count": null,
      "outputs": [
        {
          "output_type": "execute_result",
          "data": {
            "text/plain": [
              "{'Covid': 0, 'Normal': 1}"
            ]
          },
          "metadata": {
            "tags": []
          },
          "execution_count": 6
        }
      ]
    },
    {
      "cell_type": "markdown",
      "metadata": {
        "id": "soSVzKEA-z94"
      },
      "source": [
        "### Generation of testing data using ImageDataGenerator with Image Augmentation"
      ]
    },
    {
      "cell_type": "code",
      "metadata": {
        "colab": {
          "base_uri": "https://localhost:8080/"
        },
        "id": "s9v_Yx1UyqAN",
        "outputId": "8cca5b30-ae8a-4476-df13-bccc51036e59"
      },
      "source": [
        "test_datagen = image.ImageDataGenerator(  rescale= 1/255)\n",
        "\n",
        "test = test_datagen.flow_from_directory(directory= '/content/CovidDataset/Val' , target_size=(224,224), batch_size= 16, class_mode= 'binary')"
      ],
      "execution_count": null,
      "outputs": [
        {
          "output_type": "stream",
          "text": [
            "Found 40 images belonging to 2 classes.\n"
          ],
          "name": "stdout"
        }
      ]
    },
    {
      "cell_type": "code",
      "metadata": {
        "colab": {
          "base_uri": "https://localhost:8080/"
        },
        "id": "P0DaTz_JyqAO",
        "outputId": "47256e44-db84-4c1e-ca38-09697abb38b4"
      },
      "source": [
        "test.class_indices"
      ],
      "execution_count": null,
      "outputs": [
        {
          "output_type": "execute_result",
          "data": {
            "text/plain": [
              "{'Covid': 0, 'Normal': 1}"
            ]
          },
          "metadata": {
            "tags": []
          },
          "execution_count": 8
        }
      ]
    },
    {
      "cell_type": "markdown",
      "metadata": {
        "id": "jrUL2DkX-6Tl"
      },
      "source": [
        "# 4.Defining the Machine Learning Model"
      ]
    },
    {
      "cell_type": "code",
      "metadata": {
        "id": "ypHfzBUUyqAO"
      },
      "source": [
        "model = Sequential()\n",
        "\n",
        "model.add(Conv2D(filters=32, kernel_size=(3,3), activation='relu', input_shape= (224, 224, 3) ))\n",
        "\n",
        "model.add(Conv2D(filters=64, kernel_size=(3,3), activation='relu' ))\n",
        "model.add(MaxPool2D())\n",
        "model.add(Dropout(rate=0.25))\n",
        "\n",
        "model.add(Conv2D(filters=64, kernel_size=(3,3), activation='relu' ))\n",
        "model.add(MaxPool2D())\n",
        "model.add(Dropout(rate=0.25))\n",
        "\n",
        "model.add(Conv2D(filters=128, kernel_size=(3,3), activation='relu' ))\n",
        "model.add(MaxPool2D())\n",
        "model.add(Dropout(rate=0.25))\n",
        "\n",
        "model.add(Flatten())\n",
        "model.add(Dense(units= 64, activation= 'relu'))\n",
        "model.add(Dropout(rate= 0.50))\n",
        "\n",
        "model.add(Dense(units= 1, activation= 'sigmoid'))\n",
        "\n",
        "model.compile(loss= keras.losses.binary_crossentropy, optimizer= 'adam', metrics=['accuracy'])"
      ],
      "execution_count": null,
      "outputs": []
    },
    {
      "cell_type": "code",
      "metadata": {
        "colab": {
          "base_uri": "https://localhost:8080/"
        },
        "id": "QVcdvh-7yqAO",
        "outputId": "1780bc34-00b6-4eae-9252-48ac353c7b06"
      },
      "source": [
        "model.summary()"
      ],
      "execution_count": null,
      "outputs": [
        {
          "output_type": "stream",
          "text": [
            "Model: \"sequential\"\n",
            "_________________________________________________________________\n",
            "Layer (type)                 Output Shape              Param #   \n",
            "=================================================================\n",
            "conv2d (Conv2D)              (None, 222, 222, 32)      896       \n",
            "_________________________________________________________________\n",
            "conv2d_1 (Conv2D)            (None, 220, 220, 64)      18496     \n",
            "_________________________________________________________________\n",
            "max_pooling2d (MaxPooling2D) (None, 110, 110, 64)      0         \n",
            "_________________________________________________________________\n",
            "dropout (Dropout)            (None, 110, 110, 64)      0         \n",
            "_________________________________________________________________\n",
            "conv2d_2 (Conv2D)            (None, 108, 108, 64)      36928     \n",
            "_________________________________________________________________\n",
            "max_pooling2d_1 (MaxPooling2 (None, 54, 54, 64)        0         \n",
            "_________________________________________________________________\n",
            "dropout_1 (Dropout)          (None, 54, 54, 64)        0         \n",
            "_________________________________________________________________\n",
            "conv2d_3 (Conv2D)            (None, 52, 52, 128)       73856     \n",
            "_________________________________________________________________\n",
            "max_pooling2d_2 (MaxPooling2 (None, 26, 26, 128)       0         \n",
            "_________________________________________________________________\n",
            "dropout_2 (Dropout)          (None, 26, 26, 128)       0         \n",
            "_________________________________________________________________\n",
            "flatten (Flatten)            (None, 86528)             0         \n",
            "_________________________________________________________________\n",
            "dense (Dense)                (None, 64)                5537856   \n",
            "_________________________________________________________________\n",
            "dropout_3 (Dropout)          (None, 64)                0         \n",
            "_________________________________________________________________\n",
            "dense_1 (Dense)              (None, 1)                 65        \n",
            "=================================================================\n",
            "Total params: 5,668,097\n",
            "Trainable params: 5,668,097\n",
            "Non-trainable params: 0\n",
            "_________________________________________________________________\n"
          ],
          "name": "stdout"
        }
      ]
    },
    {
      "cell_type": "markdown",
      "metadata": {
        "id": "J1CCx80O_E0U"
      },
      "source": [
        "# 5.Training The Model"
      ]
    },
    {
      "cell_type": "code",
      "metadata": {
        "colab": {
          "base_uri": "https://localhost:8080/"
        },
        "id": "6JJu_QiLyqAP",
        "outputId": "73365215-9b55-4ee8-d7c5-edae553f2517"
      },
      "source": [
        "model.fit_generator(train, steps_per_epoch= 8, epochs=10, validation_steps= 2, validation_data= test)"
      ],
      "execution_count": null,
      "outputs": [
        {
          "output_type": "stream",
          "text": [
            "/usr/local/lib/python3.7/dist-packages/keras/engine/training.py:1915: UserWarning: `Model.fit_generator` is deprecated and will be removed in a future version. Please use `Model.fit`, which supports generators.\n",
            "  warnings.warn('`Model.fit_generator` is deprecated and '\n"
          ],
          "name": "stderr"
        },
        {
          "output_type": "stream",
          "text": [
            "Epoch 1/10\n",
            "8/8 [==============================] - 48s 356ms/step - loss: 0.8305 - accuracy: 0.5539 - val_loss: 0.6931 - val_accuracy: 0.5312\n",
            "Epoch 2/10\n",
            "8/8 [==============================] - 3s 392ms/step - loss: 0.6933 - accuracy: 0.5368 - val_loss: 0.6929 - val_accuracy: 0.5312\n",
            "Epoch 3/10\n",
            "8/8 [==============================] - 2s 293ms/step - loss: 0.6825 - accuracy: 0.6186 - val_loss: 0.6934 - val_accuracy: 0.3750\n",
            "Epoch 4/10\n",
            "8/8 [==============================] - 2s 292ms/step - loss: 0.6881 - accuracy: 0.5397 - val_loss: 0.6882 - val_accuracy: 0.5625\n",
            "Epoch 5/10\n",
            "8/8 [==============================] - 2s 292ms/step - loss: 0.6660 - accuracy: 0.6519 - val_loss: 0.6886 - val_accuracy: 0.5312\n",
            "Epoch 6/10\n",
            "8/8 [==============================] - 2s 279ms/step - loss: 0.6790 - accuracy: 0.6157 - val_loss: 0.6899 - val_accuracy: 0.3750\n",
            "Epoch 7/10\n",
            "8/8 [==============================] - 2s 278ms/step - loss: 0.6604 - accuracy: 0.6144 - val_loss: 0.6954 - val_accuracy: 0.6250\n",
            "Epoch 8/10\n",
            "8/8 [==============================] - 2s 277ms/step - loss: 0.6018 - accuracy: 0.6889 - val_loss: 0.7390 - val_accuracy: 0.4375\n",
            "Epoch 9/10\n",
            "8/8 [==============================] - 2s 264ms/step - loss: 0.6271 - accuracy: 0.6205 - val_loss: 0.6748 - val_accuracy: 0.6250\n",
            "Epoch 10/10\n",
            "8/8 [==============================] - 2s 281ms/step - loss: 0.5082 - accuracy: 0.7780 - val_loss: 0.7759 - val_accuracy: 0.5312\n"
          ],
          "name": "stdout"
        },
        {
          "output_type": "execute_result",
          "data": {
            "text/plain": [
              "<keras.callbacks.History at 0x7f1eded08750>"
            ]
          },
          "metadata": {
            "tags": []
          },
          "execution_count": 11
        }
      ]
    },
    {
      "cell_type": "markdown",
      "metadata": {
        "id": "9CR8WHh__Lvt"
      },
      "source": [
        "# 6.Evaluation of the Trained Model"
      ]
    },
    {
      "cell_type": "code",
      "metadata": {
        "colab": {
          "base_uri": "https://localhost:8080/"
        },
        "id": "GKgu-6K2yqAP",
        "outputId": "0d43369f-f6be-490c-c95e-9883564a19c5"
      },
      "source": [
        "input_path = '/content/CovidDataset/InputTestData/Covid/COVID-112.png'\n",
        "\n",
        "img = image.load_img(input_path, target_size= (224, 224))\n",
        "\n",
        "img = image.img_to_array(img)/255\n",
        "img = np.array([img])\n",
        "img.shape"
      ],
      "execution_count": null,
      "outputs": [
        {
          "output_type": "execute_result",
          "data": {
            "text/plain": [
              "(1, 224, 224, 3)"
            ]
          },
          "metadata": {
            "tags": []
          },
          "execution_count": 12
        }
      ]
    },
    {
      "cell_type": "code",
      "metadata": {
        "colab": {
          "base_uri": "https://localhost:8080/"
        },
        "id": "7CUuAI7eyqAP",
        "outputId": "712385df-d117-44dc-88c5-4b897a96e4d1"
      },
      "source": [
        "#model.predict_classes(img)\n",
        "np.argmax(model.predict(img), axis=-1)"
      ],
      "execution_count": null,
      "outputs": [
        {
          "output_type": "execute_result",
          "data": {
            "text/plain": [
              "array([0])"
            ]
          },
          "metadata": {
            "tags": []
          },
          "execution_count": 15
        }
      ]
    },
    {
      "cell_type": "code",
      "metadata": {
        "colab": {
          "base_uri": "https://localhost:8080/"
        },
        "id": "JnJLgeCYyqAQ",
        "outputId": "dbdb2450-4988-4bdc-d2a1-4b818f0679bc"
      },
      "source": [
        "(model.predict(img) > 0.5).astype(\"int32\")"
      ],
      "execution_count": null,
      "outputs": [
        {
          "output_type": "execute_result",
          "data": {
            "text/plain": [
              "array([[0]], dtype=int32)"
            ]
          },
          "metadata": {
            "tags": []
          },
          "execution_count": 16
        }
      ]
    },
    {
      "cell_type": "code",
      "metadata": {
        "id": "mRBkRFoQyqAQ"
      },
      "source": [
        ""
      ],
      "execution_count": null,
      "outputs": []
    }
  ]
}