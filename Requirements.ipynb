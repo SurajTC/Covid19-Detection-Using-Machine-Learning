{
  "nbformat": 4,
  "nbformat_minor": 0,
  "metadata": {
    "colab": {
      "name": "Required_versions.ipynb",
      "provenance": [],
      "collapsed_sections": []
    },
    "kernelspec": {
      "name": "python3",
      "display_name": "Python 3"
    },
    "language_info": {
      "name": "python"
    }
  },
  "cells": [
    {
      "cell_type": "code",
      "metadata": {
        "colab": {
          "base_uri": "https://localhost:8080/"
        },
        "id": "VyktsWBUdGiQ",
        "outputId": "6ef5a6ac-2964-4a82-ce31-e94337e8fb72"
      },
      "source": [
        "!pip list -v | grep [Kk]eras"
      ],
      "execution_count": null,
      "outputs": [
        {
          "output_type": "stream",
          "text": [
            "Keras                         2.4.3               /usr/local/lib/python3.7/dist-packages pip      \n",
            "keras-nightly                 2.5.0.dev2021032900 /usr/local/lib/python3.7/dist-packages pip      \n",
            "Keras-Preprocessing           1.1.2               /usr/local/lib/python3.7/dist-packages pip      \n",
            "keras-vis                     0.4.1               /usr/local/lib/python3.7/dist-packages pip      \n"
          ],
          "name": "stdout"
        }
      ]
    },
    {
      "cell_type": "code",
      "metadata": {
        "colab": {
          "base_uri": "https://localhost:8080/"
        },
        "id": "-nGsLQVadNJI",
        "outputId": "cd446051-7153-42ab-fb2b-66b748d1e3cc"
      },
      "source": [
        "!pip list -v | grep [Pp]illow"
      ],
      "execution_count": null,
      "outputs": [
        {
          "output_type": "stream",
          "text": [
            "Pillow                        7.1.2               /usr/local/lib/python3.7/dist-packages pip      \n"
          ],
          "name": "stdout"
        }
      ]
    },
    {
      "cell_type": "code",
      "metadata": {
        "colab": {
          "base_uri": "https://localhost:8080/"
        },
        "id": "J90D4_P_dUAC",
        "outputId": "ee9c955f-fe36-4523-b358-8ca5bb3b2639"
      },
      "source": [
        "!pip list -v | grep [Tt]ensorflow"
      ],
      "execution_count": null,
      "outputs": [
        {
          "output_type": "stream",
          "text": [
            "tensorflow                    2.5.0               /usr/local/lib/python3.7/dist-packages pip      \n",
            "tensorflow-datasets           4.0.1               /usr/local/lib/python3.7/dist-packages pip      \n",
            "tensorflow-estimator          2.5.0               /usr/local/lib/python3.7/dist-packages pip      \n",
            "tensorflow-gcs-config         2.5.0               /usr/local/lib/python3.7/dist-packages pip      \n",
            "tensorflow-hub                0.12.0              /usr/local/lib/python3.7/dist-packages pip      \n",
            "tensorflow-metadata           1.0.0               /usr/local/lib/python3.7/dist-packages pip      \n",
            "tensorflow-probability        0.12.1              /usr/local/lib/python3.7/dist-packages pip      \n"
          ],
          "name": "stdout"
        }
      ]
    },
    {
      "cell_type": "code",
      "metadata": {
        "id": "Doz-xqIRduuG"
      },
      "source": [
        ""
      ],
      "execution_count": null,
      "outputs": []
    }
  ]
}